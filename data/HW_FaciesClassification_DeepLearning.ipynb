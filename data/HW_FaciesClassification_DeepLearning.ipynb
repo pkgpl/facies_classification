{
 "cells": [
  {
   "cell_type": "markdown",
   "metadata": {},
   "source": [
    "# Facies classification using Deep Learning\n",
    "\n",
    "아래 셀의 `id_name`에 본인의 학번과 이름을 저장하세요."
   ]
  },
  {
   "cell_type": "code",
   "execution_count": 1,
   "metadata": {},
   "outputs": [],
   "source": [
    "id_name = \"202011111_홍길동\""
   ]
  },
  {
   "cell_type": "code",
   "execution_count": 2,
   "metadata": {},
   "outputs": [],
   "source": [
    "%matplotlib inline\n",
    "import matplotlib.pyplot as plt\n",
    "import numpy as np\n",
    "import pandas as pd"
   ]
  },
  {
   "cell_type": "code",
   "execution_count": 3,
   "metadata": {},
   "outputs": [],
   "source": [
    "def load_data(filename, label=True):\n",
    "    df = pd.read_csv(filename)\n",
    "    X = df.loc[:,[\"GR\",\"ILD_log10\",\"DeltaPHI\",\"PHIND\",\"NM_M\",\"RELPOS\"]].values\n",
    "    if label:\n",
    "        y = df.loc[:,\"Facies\"].values-1\n",
    "        return X, y\n",
    "    else:\n",
    "        return X"
   ]
  },
  {
   "cell_type": "code",
   "execution_count": 4,
   "metadata": {},
   "outputs": [
    {
     "data": {
      "text/plain": [
       "((3319, 6), (3319,))"
      ]
     },
     "execution_count": 4,
     "metadata": {},
     "output_type": "execute_result"
    }
   ],
   "source": [
    "X, y = load_data(\"HW_training_data.csv\")\n",
    "\n",
    "X.shape, y.shape"
   ]
  },
  {
   "cell_type": "code",
   "execution_count": 5,
   "metadata": {},
   "outputs": [
    {
     "data": {
      "text/plain": [
       "(0, 8)"
      ]
     },
     "execution_count": 5,
     "metadata": {},
     "output_type": "execute_result"
    }
   ],
   "source": [
    "y.min(), y.max()"
   ]
  },
  {
   "cell_type": "markdown",
   "metadata": {},
   "source": [
    "# Preprocessing, Classifier\n",
    "\n",
    "다중 분류 문제입니다.\n",
    "\n",
    "TensorFlow(Keras)를 이용해 새로운 데이터에 대한 예측 성능을 최대한 높이세요."
   ]
  },
  {
   "cell_type": "code",
   "execution_count": 6,
   "metadata": {},
   "outputs": [],
   "source": [
    "import tensorflow as tf\n",
    "from tensorflow import keras"
   ]
  },
  {
   "cell_type": "code",
   "execution_count": 7,
   "metadata": {},
   "outputs": [],
   "source": [
    "np.random.seed(0)\n",
    "tf.random.set_seed(0)"
   ]
  },
  {
   "cell_type": "code",
   "execution_count": 8,
   "metadata": {},
   "outputs": [],
   "source": [
    "model = keras.models.Sequential()\n",
    "model.add(keras.layers.Dense(50, activation='relu', input_shape=(6,)))\n",
    "model.add(keras.layers.Dense(9, activation='softmax'))"
   ]
  },
  {
   "cell_type": "code",
   "execution_count": 9,
   "metadata": {},
   "outputs": [
    {
     "name": "stdout",
     "output_type": "stream",
     "text": [
      "Epoch 1/10\n",
      "104/104 [==============================] - 0s 4ms/step - loss: 3.0357 - accuracy: 0.2368\n",
      "Epoch 2/10\n",
      "104/104 [==============================] - 0s 4ms/step - loss: 1.8785 - accuracy: 0.2901\n",
      "Epoch 3/10\n",
      "104/104 [==============================] - 0s 4ms/step - loss: 1.8439 - accuracy: 0.3079\n",
      "Epoch 4/10\n",
      "104/104 [==============================] - 0s 4ms/step - loss: 1.8158 - accuracy: 0.3347\n",
      "Epoch 5/10\n",
      "104/104 [==============================] - 0s 4ms/step - loss: 1.7727 - accuracy: 0.3567\n",
      "Epoch 6/10\n",
      "104/104 [==============================] - 0s 4ms/step - loss: 1.7503 - accuracy: 0.3766\n",
      "Epoch 7/10\n",
      "104/104 [==============================] - 0s 4ms/step - loss: 1.7294 - accuracy: 0.3742\n",
      "Epoch 8/10\n",
      "104/104 [==============================] - 0s 4ms/step - loss: 1.7116 - accuracy: 0.3884\n",
      "Epoch 9/10\n",
      "104/104 [==============================] - 0s 4ms/step - loss: 1.6887 - accuracy: 0.3839\n",
      "Epoch 10/10\n",
      "104/104 [==============================] - 0s 4ms/step - loss: 1.6895 - accuracy: 0.3884\n"
     ]
    },
    {
     "data": {
      "text/plain": [
       "<tensorflow.python.keras.callbacks.History at 0x7fe5d00a0790>"
      ]
     },
     "execution_count": 9,
     "metadata": {},
     "output_type": "execute_result"
    }
   ],
   "source": [
    "model.compile('SGD','sparse_categorical_crossentropy', metrics=['accuracy'])\n",
    "model.fit(X,y, epochs=10)"
   ]
  },
  {
   "cell_type": "markdown",
   "metadata": {},
   "source": [
    "# Test data\n",
    "\n",
    "아래 셀까지 실행하고 생성된 csv 파일과 Jupyter Notebook 파일을 제출하세요."
   ]
  },
  {
   "cell_type": "code",
   "execution_count": 10,
   "metadata": {},
   "outputs": [],
   "source": [
    "X_test = load_data(\"HW_test_data_no_label.csv\",label=False)\n",
    "\n",
    "y_pred = model.predict_classes(X_test)\n",
    "\n",
    "pd.Series(y_pred, name='Facies').to_csv(id_name+\".csv\")"
   ]
  },
  {
   "cell_type": "markdown",
   "metadata": {},
   "source": [
    "아래는 채점 방법입니다."
   ]
  },
  {
   "cell_type": "markdown",
   "metadata": {},
   "source": [
    "from sklearn.metrics import f1_score\n",
    "_, y_test = load_data(\"HW_test_data.csv\",label=True)\n",
    "\n",
    "f1_score(y_test, y_pred, average='weighted')"
   ]
  },
  {
   "cell_type": "code",
   "execution_count": null,
   "metadata": {},
   "outputs": [],
   "source": []
  }
 ],
 "metadata": {
  "kernelspec": {
   "display_name": "Python 3",
   "language": "python",
   "name": "python3"
  },
  "language_info": {
   "codemirror_mode": {
    "name": "ipython",
    "version": 3
   },
   "file_extension": ".py",
   "mimetype": "text/x-python",
   "name": "python",
   "nbconvert_exporter": "python",
   "pygments_lexer": "ipython3",
   "version": "3.7.5"
  }
 },
 "nbformat": 4,
 "nbformat_minor": 4
}
